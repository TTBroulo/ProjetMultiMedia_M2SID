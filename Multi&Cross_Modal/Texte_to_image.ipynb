{
  "nbformat": 4,
  "nbformat_minor": 0,
  "metadata": {
    "colab": {
      "provenance": []
    },
    "kernelspec": {
      "name": "python3",
      "display_name": "Python 3"
    },
    "language_info": {
      "name": "python"
    }
  },
  "cells": [
    {
      "cell_type": "markdown",
      "source": [
        "# De la description textuelle à l'image"
      ],
      "metadata": {
        "id": "SZAwjuonQzB6"
      }
    },
    {
      "cell_type": "code",
      "execution_count": null,
      "metadata": {
        "colab": {
          "base_uri": "https://localhost:8080/"
        },
        "id": "_dsG6Yq8Pw7F",
        "outputId": "a107fb47-74ed-43cd-f36c-c0e2025aa711"
      },
      "outputs": [
        {
          "output_type": "stream",
          "name": "stdout",
          "text": [
            "Drive already mounted at /content/gdrive; to attempt to forcibly remount, call drive.mount(\"/content/gdrive\", force_remount=True).\n"
          ]
        }
      ],
      "source": [
        "from google.colab import drive\n",
        "drive.mount('/content/gdrive')"
      ]
    },
    {
      "cell_type": "markdown",
      "source": [
        "## Imports et telechargements"
      ],
      "metadata": {
        "id": "791jfIlbQqQh"
      }
    },
    {
      "cell_type": "code",
      "source": [
        "import json\n",
        "import pandas as pd"
      ],
      "metadata": {
        "id": "hPXTcg5IRedi"
      },
      "execution_count": null,
      "outputs": []
    },
    {
      "cell_type": "markdown",
      "source": [
        "## Récup data"
      ],
      "metadata": {
        "id": "bPxWC-jPSlle"
      }
    },
    {
      "cell_type": "code",
      "source": [
        "file = open('/content/gdrive/MyDrive/Projet_Multimedia/download/Texte/trans0.txt', encoding='utf-16')\n",
        "text0 = file.read()\n",
        "d = json.loads(text0)\n",
        "file = open('/content/gdrive/MyDrive/Projet_Multimedia/download/Texte/trans1.txt', encoding='utf-16')\n",
        "text1 = file.read()\n",
        "d1 = json.loads(text1)\n",
        "file = open('/content/gdrive/MyDrive/Projet_Multimedia/download/Texte/trans2.txt', encoding='utf-16')\n",
        "text2 = file.read()\n",
        "d2 = json.loads(text2)\n",
        "file = open('/content/gdrive/MyDrive/Projet_Multimedia/download/Texte/trans_rest.txt', encoding='utf-16')\n",
        "text3 = file.read()\n",
        "d3 = json.loads(text3)\n",
        "dictionnary = d | d1\n",
        "dictionnary = dictionnary | d2\n",
        "dictionnary = dictionnary | d3\n",
        "len(dictionnary)\n",
        "descr = pd.read_csv('/content/gdrive/MyDrive/Projet_Multimedia/download/CSV/Transcription_wav.csv')\n",
        "name_video = descr['name_vid']\n",
        "contenue = descr['contenue']\n",
        "dic = {}\n",
        "vid_name_set = set()\n",
        "for vid_name, cont in zip(list(name_video), list(contenue)):\n",
        "  if not 'artificial intelligence' in cont.lower():\n",
        "    if not vid_name in dic.keys():\n",
        "      dic[vid_name] = cont\n",
        "    else:\n",
        "      dic[vid_name] += cont\n",
        "  else:\n",
        "    vid_name_set.add(vid_name)\n",
        "    print(vid_name)\n",
        "\n",
        "def function_reu(x):\n",
        "  try:\n",
        "    return dic[x]\n",
        "  except:\n",
        "    return ''\n",
        "\n",
        "def function_test(x):\n",
        "  try:\n",
        "    return dictionnary[(x+ '.mp3')]\n",
        "  except:\n",
        "    return 'do not have'\n",
        "\n",
        "descr['descr'] = descr['name_vid'].apply(lambda x : function_reu(x))\n",
        "descr = descr.drop_duplicates(subset='name_vid')\n",
        "dt = pd.read_csv('/content/gdrive/MyDrive/Projet_Multimedia/download/CSV/LVT.csv')\n",
        "dt['name'] = dt['video'].apply(lambda x : x[5:-4])\n",
        "dt['transcription'] = dt['name'].apply(lambda x : function_test(x))\n",
        "dt = dt.drop('video', axis=1)\n",
        "dt = dt[dt.transcription != 'do not have']\n",
        "intersection = pd.merge(dt, descr, left_on='name', right_on='name_vid')\n",
        "intersection = intersection.drop('label', axis = 1)\n",
        "intersection = intersection.drop('Unnamed: 0', axis = 1)\n",
        "intersection = intersection.drop('name_audio', axis = 1)\n",
        "intersection = intersection.drop('id_audio', axis = 1)\n",
        "intersection = intersection.drop('name_vid', axis = 1)\n",
        "intersection = intersection.drop('contenue', axis = 1)\n",
        "intersection['total'] = intersection['text'] + intersection['descr'] + intersection['transcription']\n",
        "print(len(intersection), len(dt), len(descr))"
      ],
      "metadata": {
        "colab": {
          "base_uri": "https://localhost:8080/"
        },
        "id": "KWyuufq6Rj6n",
        "outputId": "51805728-7891-4adb-d0aa-d5826c62a839"
      },
      "execution_count": null,
      "outputs": [
        {
          "output_type": "stream",
          "name": "stdout",
          "text": [
            "-eOrNdBpGMv8\n",
            "1551 2085 1878\n"
          ]
        }
      ]
    },
    {
      "cell_type": "code",
      "source": [
        "dt"
      ],
      "metadata": {
        "colab": {
          "base_uri": "https://localhost:8080/",
          "height": 597
        },
        "id": "8fJAvQexSc0B",
        "outputId": "8bf0469d-8cad-48ab-b27e-46c1b533541c"
      },
      "execution_count": null,
      "outputs": [
        {
          "output_type": "execute_result",
          "data": {
            "text/plain": [
              "       duree             label  \\\n",
              "0      77.60     Entertainment   \n",
              "1     318.72             Music   \n",
              "2     163.42         Education   \n",
              "3     125.02  Film & Animation   \n",
              "4     171.74  Film & Animation   \n",
              "...      ...               ...   \n",
              "2094  190.03     Entertainment   \n",
              "2095   55.50         Education   \n",
              "2096  158.59     Entertainment   \n",
              "2097  108.62    People & Blogs   \n",
              "2098  146.19     Entertainment   \n",
              "\n",
              "                                                   text  label_encoded  \\\n",
              "0     cut to Black, Carl a man in a long tan Overcoa...              0   \n",
              "1     the camera from the helicopter captures the ru...              1   \n",
              "2     a blindfold adult wearing green sits next to a...              2   \n",
              "3     a man doing a trick in the air, Robert Downey ...              3   \n",
              "4     crisp white text Upon A moonlit background Ree...              3   \n",
              "...                                                 ...            ...   \n",
              "2094  the supermarket spray logo appears on the scre...              0   \n",
              "2095  Barbara grabs a red cup from her right and put...              2   \n",
              "2096  dad Smiles his lips move when he speaks, the m...              0   \n",
              "2097  add 3 cups of flour a teaspoon of salt and a t...              4   \n",
              "2098  Rachel slowly takes out another one of the sti...              0   \n",
              "\n",
              "              name                                      transcription  \n",
              "0     -dXyrxjIcWdw   This has to be the place. No cameras. That's ...  \n",
              "1     -g0FMrjsYAzc   The beginning part of the season kind of suck...  \n",
              "2     -h7HGWRTGqyg   I'm gonna staple some more. There we go. Good...  \n",
              "3     -eOrNdBpGMv8   You were made to be ruled. In the end... It w...  \n",
              "4     -dRaKMNYG3-I                You I I'm sorry. You I I Oh You You  \n",
              "...            ...                                                ...  \n",
              "2094  --UggNH1YeRY   You're watching the Game Show Network. I watc...  \n",
              "2095  --kNSaU8L3mI   For another child, even something like notici...  \n",
              "2096  -0-NBRA1aSXk   Music Dad Dad Dad. Dad. Dad. Dad. Dad has voi...  \n",
              "2097  --bCmuE3KxWI                              Music you you you you  \n",
              "2098  --RtZZZmmdgU   We're back with Rachel McAdams and Justin Har...  \n",
              "\n",
              "[2085 rows x 6 columns]"
            ],
            "text/html": [
              "\n",
              "  <div id=\"df-c7a4fe20-f54e-44ec-86e4-9a0d6854847b\" class=\"colab-df-container\">\n",
              "    <div>\n",
              "<style scoped>\n",
              "    .dataframe tbody tr th:only-of-type {\n",
              "        vertical-align: middle;\n",
              "    }\n",
              "\n",
              "    .dataframe tbody tr th {\n",
              "        vertical-align: top;\n",
              "    }\n",
              "\n",
              "    .dataframe thead th {\n",
              "        text-align: right;\n",
              "    }\n",
              "</style>\n",
              "<table border=\"1\" class=\"dataframe\">\n",
              "  <thead>\n",
              "    <tr style=\"text-align: right;\">\n",
              "      <th></th>\n",
              "      <th>duree</th>\n",
              "      <th>label</th>\n",
              "      <th>text</th>\n",
              "      <th>label_encoded</th>\n",
              "      <th>name</th>\n",
              "      <th>transcription</th>\n",
              "    </tr>\n",
              "  </thead>\n",
              "  <tbody>\n",
              "    <tr>\n",
              "      <th>0</th>\n",
              "      <td>77.60</td>\n",
              "      <td>Entertainment</td>\n",
              "      <td>cut to Black, Carl a man in a long tan Overcoa...</td>\n",
              "      <td>0</td>\n",
              "      <td>-dXyrxjIcWdw</td>\n",
              "      <td>This has to be the place. No cameras. That's ...</td>\n",
              "    </tr>\n",
              "    <tr>\n",
              "      <th>1</th>\n",
              "      <td>318.72</td>\n",
              "      <td>Music</td>\n",
              "      <td>the camera from the helicopter captures the ru...</td>\n",
              "      <td>1</td>\n",
              "      <td>-g0FMrjsYAzc</td>\n",
              "      <td>The beginning part of the season kind of suck...</td>\n",
              "    </tr>\n",
              "    <tr>\n",
              "      <th>2</th>\n",
              "      <td>163.42</td>\n",
              "      <td>Education</td>\n",
              "      <td>a blindfold adult wearing green sits next to a...</td>\n",
              "      <td>2</td>\n",
              "      <td>-h7HGWRTGqyg</td>\n",
              "      <td>I'm gonna staple some more. There we go. Good...</td>\n",
              "    </tr>\n",
              "    <tr>\n",
              "      <th>3</th>\n",
              "      <td>125.02</td>\n",
              "      <td>Film &amp; Animation</td>\n",
              "      <td>a man doing a trick in the air, Robert Downey ...</td>\n",
              "      <td>3</td>\n",
              "      <td>-eOrNdBpGMv8</td>\n",
              "      <td>You were made to be ruled. In the end... It w...</td>\n",
              "    </tr>\n",
              "    <tr>\n",
              "      <th>4</th>\n",
              "      <td>171.74</td>\n",
              "      <td>Film &amp; Animation</td>\n",
              "      <td>crisp white text Upon A moonlit background Ree...</td>\n",
              "      <td>3</td>\n",
              "      <td>-dRaKMNYG3-I</td>\n",
              "      <td>You I I'm sorry. You I I Oh You You</td>\n",
              "    </tr>\n",
              "    <tr>\n",
              "      <th>...</th>\n",
              "      <td>...</td>\n",
              "      <td>...</td>\n",
              "      <td>...</td>\n",
              "      <td>...</td>\n",
              "      <td>...</td>\n",
              "      <td>...</td>\n",
              "    </tr>\n",
              "    <tr>\n",
              "      <th>2094</th>\n",
              "      <td>190.03</td>\n",
              "      <td>Entertainment</td>\n",
              "      <td>the supermarket spray logo appears on the scre...</td>\n",
              "      <td>0</td>\n",
              "      <td>--UggNH1YeRY</td>\n",
              "      <td>You're watching the Game Show Network. I watc...</td>\n",
              "    </tr>\n",
              "    <tr>\n",
              "      <th>2095</th>\n",
              "      <td>55.50</td>\n",
              "      <td>Education</td>\n",
              "      <td>Barbara grabs a red cup from her right and put...</td>\n",
              "      <td>2</td>\n",
              "      <td>--kNSaU8L3mI</td>\n",
              "      <td>For another child, even something like notici...</td>\n",
              "    </tr>\n",
              "    <tr>\n",
              "      <th>2096</th>\n",
              "      <td>158.59</td>\n",
              "      <td>Entertainment</td>\n",
              "      <td>dad Smiles his lips move when he speaks, the m...</td>\n",
              "      <td>0</td>\n",
              "      <td>-0-NBRA1aSXk</td>\n",
              "      <td>Music Dad Dad Dad. Dad. Dad. Dad. Dad has voi...</td>\n",
              "    </tr>\n",
              "    <tr>\n",
              "      <th>2097</th>\n",
              "      <td>108.62</td>\n",
              "      <td>People &amp; Blogs</td>\n",
              "      <td>add 3 cups of flour a teaspoon of salt and a t...</td>\n",
              "      <td>4</td>\n",
              "      <td>--bCmuE3KxWI</td>\n",
              "      <td>Music you you you you</td>\n",
              "    </tr>\n",
              "    <tr>\n",
              "      <th>2098</th>\n",
              "      <td>146.19</td>\n",
              "      <td>Entertainment</td>\n",
              "      <td>Rachel slowly takes out another one of the sti...</td>\n",
              "      <td>0</td>\n",
              "      <td>--RtZZZmmdgU</td>\n",
              "      <td>We're back with Rachel McAdams and Justin Har...</td>\n",
              "    </tr>\n",
              "  </tbody>\n",
              "</table>\n",
              "<p>2085 rows × 6 columns</p>\n",
              "</div>\n",
              "    <div class=\"colab-df-buttons\">\n",
              "\n",
              "  <div class=\"colab-df-container\">\n",
              "    <button class=\"colab-df-convert\" onclick=\"convertToInteractive('df-c7a4fe20-f54e-44ec-86e4-9a0d6854847b')\"\n",
              "            title=\"Convert this dataframe to an interactive table.\"\n",
              "            style=\"display:none;\">\n",
              "\n",
              "  <svg xmlns=\"http://www.w3.org/2000/svg\" height=\"24px\" viewBox=\"0 -960 960 960\">\n",
              "    <path d=\"M120-120v-720h720v720H120Zm60-500h600v-160H180v160Zm220 220h160v-160H400v160Zm0 220h160v-160H400v160ZM180-400h160v-160H180v160Zm440 0h160v-160H620v160ZM180-180h160v-160H180v160Zm440 0h160v-160H620v160Z\"/>\n",
              "  </svg>\n",
              "    </button>\n",
              "\n",
              "  <style>\n",
              "    .colab-df-container {\n",
              "      display:flex;\n",
              "      gap: 12px;\n",
              "    }\n",
              "\n",
              "    .colab-df-convert {\n",
              "      background-color: #E8F0FE;\n",
              "      border: none;\n",
              "      border-radius: 50%;\n",
              "      cursor: pointer;\n",
              "      display: none;\n",
              "      fill: #1967D2;\n",
              "      height: 32px;\n",
              "      padding: 0 0 0 0;\n",
              "      width: 32px;\n",
              "    }\n",
              "\n",
              "    .colab-df-convert:hover {\n",
              "      background-color: #E2EBFA;\n",
              "      box-shadow: 0px 1px 2px rgba(60, 64, 67, 0.3), 0px 1px 3px 1px rgba(60, 64, 67, 0.15);\n",
              "      fill: #174EA6;\n",
              "    }\n",
              "\n",
              "    .colab-df-buttons div {\n",
              "      margin-bottom: 4px;\n",
              "    }\n",
              "\n",
              "    [theme=dark] .colab-df-convert {\n",
              "      background-color: #3B4455;\n",
              "      fill: #D2E3FC;\n",
              "    }\n",
              "\n",
              "    [theme=dark] .colab-df-convert:hover {\n",
              "      background-color: #434B5C;\n",
              "      box-shadow: 0px 1px 3px 1px rgba(0, 0, 0, 0.15);\n",
              "      filter: drop-shadow(0px 1px 2px rgba(0, 0, 0, 0.3));\n",
              "      fill: #FFFFFF;\n",
              "    }\n",
              "  </style>\n",
              "\n",
              "    <script>\n",
              "      const buttonEl =\n",
              "        document.querySelector('#df-c7a4fe20-f54e-44ec-86e4-9a0d6854847b button.colab-df-convert');\n",
              "      buttonEl.style.display =\n",
              "        google.colab.kernel.accessAllowed ? 'block' : 'none';\n",
              "\n",
              "      async function convertToInteractive(key) {\n",
              "        const element = document.querySelector('#df-c7a4fe20-f54e-44ec-86e4-9a0d6854847b');\n",
              "        const dataTable =\n",
              "          await google.colab.kernel.invokeFunction('convertToInteractive',\n",
              "                                                    [key], {});\n",
              "        if (!dataTable) return;\n",
              "\n",
              "        const docLinkHtml = 'Like what you see? Visit the ' +\n",
              "          '<a target=\"_blank\" href=https://colab.research.google.com/notebooks/data_table.ipynb>data table notebook</a>'\n",
              "          + ' to learn more about interactive tables.';\n",
              "        element.innerHTML = '';\n",
              "        dataTable['output_type'] = 'display_data';\n",
              "        await google.colab.output.renderOutput(dataTable, element);\n",
              "        const docLink = document.createElement('div');\n",
              "        docLink.innerHTML = docLinkHtml;\n",
              "        element.appendChild(docLink);\n",
              "      }\n",
              "    </script>\n",
              "  </div>\n",
              "\n",
              "\n",
              "<div id=\"df-7d5944be-279e-4daa-bfe4-1423a6b4028d\">\n",
              "  <button class=\"colab-df-quickchart\" onclick=\"quickchart('df-7d5944be-279e-4daa-bfe4-1423a6b4028d')\"\n",
              "            title=\"Suggest charts\"\n",
              "            style=\"display:none;\">\n",
              "\n",
              "<svg xmlns=\"http://www.w3.org/2000/svg\" height=\"24px\"viewBox=\"0 0 24 24\"\n",
              "     width=\"24px\">\n",
              "    <g>\n",
              "        <path d=\"M19 3H5c-1.1 0-2 .9-2 2v14c0 1.1.9 2 2 2h14c1.1 0 2-.9 2-2V5c0-1.1-.9-2-2-2zM9 17H7v-7h2v7zm4 0h-2V7h2v10zm4 0h-2v-4h2v4z\"/>\n",
              "    </g>\n",
              "</svg>\n",
              "  </button>\n",
              "\n",
              "<style>\n",
              "  .colab-df-quickchart {\n",
              "      --bg-color: #E8F0FE;\n",
              "      --fill-color: #1967D2;\n",
              "      --hover-bg-color: #E2EBFA;\n",
              "      --hover-fill-color: #174EA6;\n",
              "      --disabled-fill-color: #AAA;\n",
              "      --disabled-bg-color: #DDD;\n",
              "  }\n",
              "\n",
              "  [theme=dark] .colab-df-quickchart {\n",
              "      --bg-color: #3B4455;\n",
              "      --fill-color: #D2E3FC;\n",
              "      --hover-bg-color: #434B5C;\n",
              "      --hover-fill-color: #FFFFFF;\n",
              "      --disabled-bg-color: #3B4455;\n",
              "      --disabled-fill-color: #666;\n",
              "  }\n",
              "\n",
              "  .colab-df-quickchart {\n",
              "    background-color: var(--bg-color);\n",
              "    border: none;\n",
              "    border-radius: 50%;\n",
              "    cursor: pointer;\n",
              "    display: none;\n",
              "    fill: var(--fill-color);\n",
              "    height: 32px;\n",
              "    padding: 0;\n",
              "    width: 32px;\n",
              "  }\n",
              "\n",
              "  .colab-df-quickchart:hover {\n",
              "    background-color: var(--hover-bg-color);\n",
              "    box-shadow: 0 1px 2px rgba(60, 64, 67, 0.3), 0 1px 3px 1px rgba(60, 64, 67, 0.15);\n",
              "    fill: var(--button-hover-fill-color);\n",
              "  }\n",
              "\n",
              "  .colab-df-quickchart-complete:disabled,\n",
              "  .colab-df-quickchart-complete:disabled:hover {\n",
              "    background-color: var(--disabled-bg-color);\n",
              "    fill: var(--disabled-fill-color);\n",
              "    box-shadow: none;\n",
              "  }\n",
              "\n",
              "  .colab-df-spinner {\n",
              "    border: 2px solid var(--fill-color);\n",
              "    border-color: transparent;\n",
              "    border-bottom-color: var(--fill-color);\n",
              "    animation:\n",
              "      spin 1s steps(1) infinite;\n",
              "  }\n",
              "\n",
              "  @keyframes spin {\n",
              "    0% {\n",
              "      border-color: transparent;\n",
              "      border-bottom-color: var(--fill-color);\n",
              "      border-left-color: var(--fill-color);\n",
              "    }\n",
              "    20% {\n",
              "      border-color: transparent;\n",
              "      border-left-color: var(--fill-color);\n",
              "      border-top-color: var(--fill-color);\n",
              "    }\n",
              "    30% {\n",
              "      border-color: transparent;\n",
              "      border-left-color: var(--fill-color);\n",
              "      border-top-color: var(--fill-color);\n",
              "      border-right-color: var(--fill-color);\n",
              "    }\n",
              "    40% {\n",
              "      border-color: transparent;\n",
              "      border-right-color: var(--fill-color);\n",
              "      border-top-color: var(--fill-color);\n",
              "    }\n",
              "    60% {\n",
              "      border-color: transparent;\n",
              "      border-right-color: var(--fill-color);\n",
              "    }\n",
              "    80% {\n",
              "      border-color: transparent;\n",
              "      border-right-color: var(--fill-color);\n",
              "      border-bottom-color: var(--fill-color);\n",
              "    }\n",
              "    90% {\n",
              "      border-color: transparent;\n",
              "      border-bottom-color: var(--fill-color);\n",
              "    }\n",
              "  }\n",
              "</style>\n",
              "\n",
              "  <script>\n",
              "    async function quickchart(key) {\n",
              "      const quickchartButtonEl =\n",
              "        document.querySelector('#' + key + ' button');\n",
              "      quickchartButtonEl.disabled = true;  // To prevent multiple clicks.\n",
              "      quickchartButtonEl.classList.add('colab-df-spinner');\n",
              "      try {\n",
              "        const charts = await google.colab.kernel.invokeFunction(\n",
              "            'suggestCharts', [key], {});\n",
              "      } catch (error) {\n",
              "        console.error('Error during call to suggestCharts:', error);\n",
              "      }\n",
              "      quickchartButtonEl.classList.remove('colab-df-spinner');\n",
              "      quickchartButtonEl.classList.add('colab-df-quickchart-complete');\n",
              "    }\n",
              "    (() => {\n",
              "      let quickchartButtonEl =\n",
              "        document.querySelector('#df-7d5944be-279e-4daa-bfe4-1423a6b4028d button');\n",
              "      quickchartButtonEl.style.display =\n",
              "        google.colab.kernel.accessAllowed ? 'block' : 'none';\n",
              "    })();\n",
              "  </script>\n",
              "</div>\n",
              "    </div>\n",
              "  </div>\n"
            ]
          },
          "metadata": {},
          "execution_count": 15
        }
      ]
    },
    {
      "cell_type": "markdown",
      "source": [
        "## Récup model"
      ],
      "metadata": {
        "id": "Krc7BKBzSp0Z"
      }
    },
    {
      "cell_type": "code",
      "source": [
        "!pip install transformers"
      ],
      "metadata": {
        "colab": {
          "base_uri": "https://localhost:8080/"
        },
        "id": "ScHBR8fX6YEU",
        "outputId": "74b8f7e2-87c1-44a2-e459-8d7decad00d3"
      },
      "execution_count": null,
      "outputs": [
        {
          "output_type": "stream",
          "name": "stdout",
          "text": [
            "Collecting transformers\n",
            "  Downloading transformers-4.35.0-py3-none-any.whl (7.9 MB)\n",
            "\u001b[2K     \u001b[90m━━━━━━━━━━━━━━━━━━━━━━━━━━━━━━━━━━━━━━━━\u001b[0m \u001b[32m7.9/7.9 MB\u001b[0m \u001b[31m47.0 MB/s\u001b[0m eta \u001b[36m0:00:00\u001b[0m\n",
            "\u001b[?25hRequirement already satisfied: filelock in /usr/local/lib/python3.10/dist-packages (from transformers) (3.13.1)\n",
            "Collecting huggingface-hub<1.0,>=0.16.4 (from transformers)\n",
            "  Downloading huggingface_hub-0.19.0-py3-none-any.whl (311 kB)\n",
            "\u001b[2K     \u001b[90m━━━━━━━━━━━━━━━━━━━━━━━━━━━━━━━━━━━━━━━━\u001b[0m \u001b[32m311.2/311.2 kB\u001b[0m \u001b[31m29.6 MB/s\u001b[0m eta \u001b[36m0:00:00\u001b[0m\n",
            "\u001b[?25hRequirement already satisfied: numpy>=1.17 in /usr/local/lib/python3.10/dist-packages (from transformers) (1.23.5)\n",
            "Requirement already satisfied: packaging>=20.0 in /usr/local/lib/python3.10/dist-packages (from transformers) (23.2)\n",
            "Requirement already satisfied: pyyaml>=5.1 in /usr/local/lib/python3.10/dist-packages (from transformers) (6.0.1)\n",
            "Requirement already satisfied: regex!=2019.12.17 in /usr/local/lib/python3.10/dist-packages (from transformers) (2023.6.3)\n",
            "Requirement already satisfied: requests in /usr/local/lib/python3.10/dist-packages (from transformers) (2.31.0)\n",
            "Collecting tokenizers<0.15,>=0.14 (from transformers)\n",
            "  Downloading tokenizers-0.14.1-cp310-cp310-manylinux_2_17_x86_64.manylinux2014_x86_64.whl (3.8 MB)\n",
            "\u001b[2K     \u001b[90m━━━━━━━━━━━━━━━━━━━━━━━━━━━━━━━━━━━━━━━━\u001b[0m \u001b[32m3.8/3.8 MB\u001b[0m \u001b[31m62.0 MB/s\u001b[0m eta \u001b[36m0:00:00\u001b[0m\n",
            "\u001b[?25hCollecting safetensors>=0.3.1 (from transformers)\n",
            "  Downloading safetensors-0.4.0-cp310-cp310-manylinux_2_17_x86_64.manylinux2014_x86_64.whl (1.3 MB)\n",
            "\u001b[2K     \u001b[90m━━━━━━━━━━━━━━━━━━━━━━━━━━━━━━━━━━━━━━━━\u001b[0m \u001b[32m1.3/1.3 MB\u001b[0m \u001b[31m84.2 MB/s\u001b[0m eta \u001b[36m0:00:00\u001b[0m\n",
            "\u001b[?25hRequirement already satisfied: tqdm>=4.27 in /usr/local/lib/python3.10/dist-packages (from transformers) (4.66.1)\n",
            "Requirement already satisfied: fsspec>=2023.5.0 in /usr/local/lib/python3.10/dist-packages (from huggingface-hub<1.0,>=0.16.4->transformers) (2023.6.0)\n",
            "Requirement already satisfied: typing-extensions>=3.7.4.3 in /usr/local/lib/python3.10/dist-packages (from huggingface-hub<1.0,>=0.16.4->transformers) (4.5.0)\n",
            "Collecting huggingface-hub<1.0,>=0.16.4 (from transformers)\n",
            "  Downloading huggingface_hub-0.17.3-py3-none-any.whl (295 kB)\n",
            "\u001b[2K     \u001b[90m━━━━━━━━━━━━━━━━━━━━━━━━━━━━━━━━━━━━━━━━\u001b[0m \u001b[32m295.0/295.0 kB\u001b[0m \u001b[31m26.5 MB/s\u001b[0m eta \u001b[36m0:00:00\u001b[0m\n",
            "\u001b[?25hRequirement already satisfied: charset-normalizer<4,>=2 in /usr/local/lib/python3.10/dist-packages (from requests->transformers) (3.3.2)\n",
            "Requirement already satisfied: idna<4,>=2.5 in /usr/local/lib/python3.10/dist-packages (from requests->transformers) (3.4)\n",
            "Requirement already satisfied: urllib3<3,>=1.21.1 in /usr/local/lib/python3.10/dist-packages (from requests->transformers) (2.0.7)\n",
            "Requirement already satisfied: certifi>=2017.4.17 in /usr/local/lib/python3.10/dist-packages (from requests->transformers) (2023.7.22)\n",
            "Installing collected packages: safetensors, huggingface-hub, tokenizers, transformers\n",
            "Successfully installed huggingface-hub-0.17.3 safetensors-0.4.0 tokenizers-0.14.1 transformers-4.35.0\n"
          ]
        }
      ]
    },
    {
      "cell_type": "code",
      "source": [
        "from PIL import Image\n",
        "import requests\n",
        "\n",
        "from transformers import CLIPProcessor, CLIPModel\n",
        "\n",
        "model = CLIPModel.from_pretrained(\"openai/clip-vit-base-patch32\")\n",
        "processor = CLIPProcessor.from_pretrained(\"openai/clip-vit-base-patch32\")"
      ],
      "metadata": {
        "colab": {
          "base_uri": "https://localhost:8080/",
          "height": 105
        },
        "id": "5-BAeI6i6PSy",
        "outputId": "0e6a6667-156b-4ce0-a1ca-e5644de2d793"
      },
      "execution_count": null,
      "outputs": [
        {
          "output_type": "execute_result",
          "data": {
            "text/plain": [
              "'\\nurl = \"http://images.cocodataset.org/val2017/000000039769.jpg\"\\nimage = Image.open(requests.get(url, stream=True).raw)\\n\\ninputs = processor(text=[\"a photo of a cat\", \"a photo of a dog\"], images=image, return_tensors=\"pt\", padding=True)\\n\\noutputs = model(**inputs)\\nlogits_per_image = outputs.logits_per_image  # this is the image-text similarity score\\nprobs = logits_per_image.softmax(dim=1)  # we can take the softmax to get the label probabilities\\n'"
            ],
            "application/vnd.google.colaboratory.intrinsic+json": {
              "type": "string"
            }
          },
          "metadata": {},
          "execution_count": 6
        }
      ]
    },
    {
      "cell_type": "markdown",
      "source": [
        "## Récup images de la vidéo"
      ],
      "metadata": {
        "id": "ryN3l0FQq2om"
      }
    },
    {
      "cell_type": "code",
      "source": [
        "!pip install av"
      ],
      "metadata": {
        "colab": {
          "base_uri": "https://localhost:8080/"
        },
        "id": "xag2WcaRT_aW",
        "outputId": "229bfc41-a290-47a5-85e7-4542ac643525"
      },
      "execution_count": null,
      "outputs": [
        {
          "output_type": "stream",
          "name": "stdout",
          "text": [
            "Requirement already satisfied: av in /usr/local/lib/python3.10/dist-packages (10.0.0)\n"
          ]
        }
      ]
    },
    {
      "cell_type": "code",
      "source": [
        "def read_video_pyav(container, indices):\n",
        "    frames = []\n",
        "    container.seek(0)\n",
        "    start_index = indices[0]\n",
        "    end_index = indices[-1]\n",
        "    for i, frame in enumerate(container.decode(video=0)):\n",
        "        if i > end_index:\n",
        "            break\n",
        "        if i >= start_index and i in indices:\n",
        "            frames.append(frame)\n",
        "    return np.stack([x.to_ndarray(format=\"rgb24\") for x in frames])"
      ],
      "metadata": {
        "id": "hxQW6PI7UlqF"
      },
      "execution_count": null,
      "outputs": []
    },
    {
      "cell_type": "code",
      "source": [
        "import av\n",
        "import numpy as np\n",
        "index_frames_matrix = np.load('/content/gdrive/MyDrive/Projet_Multimedia/download/KeyImages/FinalMatrixFramesIndices.npy')\n",
        "vid_folder_path = \"/content/gdrive/MyDrive/Projet_Multimedia/videos/Video_with_label/\"\n",
        "container = av.open('/content/gdrive/MyDrive/Projet_Multimedia/videos/Video_with_label/' + 'video-dRaKMNYG3-I.mp4')\n",
        "video = read_video_pyav(container=container, indices=index_frames_matrix[2094])"
      ],
      "metadata": {
        "id": "AE3oAGdF66Nv"
      },
      "execution_count": null,
      "outputs": []
    },
    {
      "cell_type": "markdown",
      "source": [
        "## Appliquer modèle permettant de résumer les textes"
      ],
      "metadata": {
        "id": "cJj2abh7D73W"
      }
    },
    {
      "cell_type": "code",
      "source": [
        "from transformers import pipeline\n",
        "summarizer = pipeline(\"summarization\", model=\"facebook/bart-large-cnn\")\n",
        "\n",
        "def sumarize_txt (texte) :\n",
        "  txt = summarizer(texte, max_length=15, min_length=10, do_sample=False)[0]['summary_text']\n",
        "dt['text_summarized'] = dt.text.apply(lambda x : sumarize_txt(x))"
      ],
      "metadata": {
        "id": "3DRj1cYp-qpO"
      },
      "execution_count": null,
      "outputs": []
    },
    {
      "cell_type": "code",
      "source": [
        "dt.to_csv('/content/gdrive/MyDrive/Projet_Multimedia/download/CVS/data_text_sum.csv')\n",
        "# enreg le resultat sur drive"
      ],
      "metadata": {
        "id": "QJV7rLAKAd9t"
      },
      "execution_count": null,
      "outputs": []
    },
    {
      "cell_type": "markdown",
      "source": [
        "## Lien image-texte\n",
        "\n",
        "On regarde pour chaque video quel est le texte le plus probable parmis tous ceux que l'on a mais la RAM ne supporte plus alors on est un peu bloqués\n"
      ],
      "metadata": {
        "id": "9I5T2_QPEM55"
      }
    },
    {
      "cell_type": "code",
      "source": [
        "# for image in video :\n",
        "from tqdm import tqdm\n",
        "arg_max = []\n",
        "for image in tqdm(video) :\n",
        "  textes = list(dt['text_summarized'])\n",
        "  inputs = processor(text=textes, images=image, return_tensors=\"pt\", padding=True)\n",
        "  outputs = model(**inputs)\n",
        "  logits_per_image = outputs.logits_per_image  # this is the image-text similarity score\n",
        "  probs = logits_per_image.softmax(dim=1)  # we can take the softmax to get the label probabilities\n",
        "  arg_max.append(np.argmax(probs.detach().numpy()))\n",
        "\n",
        "arg_max"
      ],
      "metadata": {
        "colab": {
          "base_uri": "https://localhost:8080/"
        },
        "id": "sS_LpncyU-s3",
        "outputId": "ab5aa061-430e-4d70-f500-04bc1cef1ec8"
      },
      "execution_count": null,
      "outputs": [
        {
          "output_type": "stream",
          "name": "stderr",
          "text": [
            "100%|██████████| 32/32 [01:51<00:00,  3.48s/it]\n"
          ]
        }
      ]
    }
  ]
}